{
 "cells": [
  {
   "cell_type": "code",
   "execution_count": 1,
   "metadata": {},
   "outputs": [],
   "source": [
    "import numpy as np\n",
    "import matplotlib.pyplot as plt\n",
    "import pandas as pd"
   ]
  },
  {
   "cell_type": "code",
   "execution_count": 2,
   "metadata": {
    "scrolled": true
   },
   "outputs": [
    {
     "name": "stdout",
     "output_type": "stream",
     "text": [
      "    Process Number  Generation     Status  Worker #  Duration (ms)\n",
      "0                1           1   Accepted         6            300\n",
      "1                2           1   Rejected         2            200\n",
      "2                3           1   Accepted         3            500\n",
      "3                4           1   Accepted         4             50\n",
      "4                5           1   Accepted         5            100\n",
      "5                6           1   Accepted         1            200\n",
      "6                7           1   Rejected         7            100\n",
      "7                8           1   Accepted         8             80\n",
      "8                9           1   Rejected         4             50\n",
      "9               10           1   Accepted         4             70\n",
      "10              11           1   Accepted         4            100\n",
      "11              12           1   Accepted         4             80\n",
      "12              13           1   Accepted         2            200\n",
      "13              14           1   Rejected         5            150\n",
      "14              15           1   Accepted         5            100\n",
      "15              16           1   Accepted         1             50\n",
      "16              17           1   Accepted         1             75\n",
      "17              18           1   Accepted         7             50\n",
      "18              19           1   Accepted         7            100\n",
      "19              20           1   Accepted         7             50\n",
      "20              21           1   Accepted         8            100\n",
      "21              22           1   Rejected         8             70\n",
      "22              23           1   Accepted         8            100\n",
      "23              24           1   Accepted         6             50\n",
      "24              25           1   Accepted         7             75\n",
      "25              26           1   Rejected         1            100\n",
      "26              27           1  Discarded         4            150\n",
      "27              28           1   Rejected         5             80\n",
      "28              29           1  Discarded         8             50\n",
      "29              30           1  Discarded         6            100\n",
      "30              31           2   Accepted         6            196\n",
      "31              32           2   Rejected         1             83\n",
      "32              33           2   Accepted         7            151\n",
      "33              34           2   Accepted         1            130\n",
      "34              35           2   Accepted         4            159\n",
      "35              36           2   Accepted         2             52\n",
      "36              37           2   Rejected         7             75\n",
      "37              38           2   Accepted         2            196\n",
      "38              39           2   Rejected         8             42\n",
      "39              40           2   Accepted         1             54\n",
      "40              41           2   Accepted         3            106\n",
      "41              42           2   Accepted         6            102\n",
      "42              43           2   Accepted         5            173\n",
      "43              44           2   Rejected         3            119\n",
      "44              45           2   Accepted         5             63\n",
      "45              46           2   Accepted         1            152\n",
      "46              47           2   Accepted         5            169\n",
      "47              48           2   Accepted         1            170\n",
      "48              49           2   Accepted         1            101\n",
      "49              50           2   Accepted         5            137\n",
      "50              51           2   Accepted         7            199\n",
      "51              52           2   Rejected         8             32\n",
      "52              53           2   Accepted         3             50\n",
      "53              54           2   Accepted         8            143\n",
      "54              55           2   Accepted         7             55\n",
      "55              56           2   Rejected         4             19\n",
      "56              57           2  Discarded         5             42\n",
      "57              58           2   Rejected         6            125\n",
      "58              59           2  Discarded         3             14\n",
      "59              60           2  Discarded         2            116\n"
     ]
    }
   ],
   "source": [
    "testdata = pd.read_csv(r'C:\\Users\\Felipe\\Documents\\Uni\\Master\\Thesis\\TestData.csv', delimiter = \";\")\n",
    "testdata.set_index('Process Number')\n",
    "testdata = testdata.iloc[:,0:5]\n",
    "print(testdata)"
   ]
  },
  {
   "cell_type": "code",
   "execution_count": 3,
   "metadata": {},
   "outputs": [
    {
     "name": "stdout",
     "output_type": "stream",
     "text": [
      "[10.  5.  5.  8.  9.  6.  9.  8.]\n",
      "[1115.  764.  789.  678. 1014.  873.  855.  617.]\n"
     ]
    }
   ],
   "source": [
    "workers = testdata['Worker #'].max()\n",
    "walltimes = np.zeros(workers)\n",
    "processes =np.zeros(workers)\n",
    "for i in range(0, workers):\n",
    "        testdata_worker = testdata.loc[testdata['Worker #']==i+1]\n",
    "        testdata_worker = testdata_worker.assign(\n",
    "            Walltime=lambda testdata_worker: testdata_worker['Duration (ms)'].cumsum())\n",
    "        walltimes[i] = testdata_worker['Walltime'].tail(1)\n",
    "        processes[i] = len(testdata_worker)\n",
    "print(processes)\n",
    "print(walltimes)"
   ]
  },
  {
   "cell_type": "code",
   "execution_count": 4,
   "metadata": {},
   "outputs": [],
   "source": [
    "workers = int(testdata['Worker #'].max())\n",
    "generations = int(testdata['Generation'].max())\n",
    "max_proc = int(processes.max())"
   ]
  },
  {
   "cell_type": "code",
   "execution_count": 5,
   "metadata": {},
   "outputs": [
    {
     "name": "stdout",
     "output_type": "stream",
     "text": [
      "[[200. 200. 500.  50. 100. 300. 100.  80.]\n",
      " [ 50. 200. 106.  50. 150.  50.  50. 100.]\n",
      " [ 75.  52. 119.  70. 100. 100. 100.  70.]\n",
      " [100. 196.  50. 100.  80. 196.  50. 100.]\n",
      " [ 83. 116.  14.  80. 173. 102.  75.  50.]\n",
      " [130.   0.   0. 150.  63. 125. 151.  42.]\n",
      " [ 54.   0.   0. 159. 169.   0.  75.  32.]\n",
      " [152.   0.   0.  19. 137.   0. 199. 143.]\n",
      " [170.   0.   0.   0.  42.   0.  55.   0.]\n",
      " [101.   0.   0.   0.   0.   0.   0.   0.]]\n",
      "[[1. 1. 1. 1. 1. 1. 1. 1.]\n",
      " [1. 1. 2. 1. 1. 1. 1. 1.]\n",
      " [1. 2. 2. 1. 1. 1. 1. 1.]\n",
      " [1. 2. 2. 1. 1. 2. 1. 1.]\n",
      " [2. 2. 2. 1. 2. 2. 1. 1.]\n",
      " [2. 0. 0. 1. 2. 2. 2. 2.]\n",
      " [2. 0. 0. 2. 2. 0. 2. 2.]\n",
      " [2. 0. 0. 2. 2. 0. 2. 2.]\n",
      " [2. 0. 0. 0. 2. 0. 2. 0.]\n",
      " [2. 0. 0. 0. 0. 0. 0. 0.]]\n",
      "[['Accepted', 'Rejected', 'Accepted', 'Accepted', 'Accepted', 'Accepted', 'Rejected', 'Accepted'], ['Accepted', 'Accepted', 'Accepted', 'Rejected', 'Rejected', 'Accepted', 'Accepted', 'Accepted'], ['Accepted', 'Accepted', 'Rejected', 'Accepted', 'Accepted', 'Discarded', 'Accepted', 'Rejected'], ['Rejected', 'Accepted', 'Accepted', 'Accepted', 'Rejected', 'Accepted', 'Accepted', 'Accepted'], ['Rejected', 'Discarded', 'Discarded', 'Accepted', 'Accepted', 'Accepted', 'Accepted', 'Discarded'], ['Accepted', None, None, 'Discarded', 'Accepted', 'Rejected', 'Accepted', 'Rejected'], ['Accepted', None, None, 'Accepted', 'Accepted', None, 'Rejected', 'Rejected'], ['Accepted', None, None, 'Rejected', 'Accepted', None, 'Accepted', 'Accepted'], ['Accepted', None, None, None, 'Discarded', None, 'Accepted', None], ['Accepted', None, None, None, None, None, None, None]]\n"
     ]
    }
   ],
   "source": [
    "runtimes_wp = np.zeros((int(max_proc),workers))\n",
    "generations_wp = np.zeros((int(max_proc),workers))\n",
    "acceptance_wp = [[None for x in range(workers)] for y in range(int(max_proc))]\n",
    "\n",
    "for i in range(0,workers):\n",
    "    testdata_worker = testdata.loc[testdata['Worker #']==i+1]\n",
    "    runtimes = testdata_worker['Duration (ms)'].values\n",
    "    generations = testdata_worker['Generation'].values\n",
    "    acceptance = testdata_worker['Status'].array\n",
    "    for j in range(len(runtimes)):\n",
    "        runtimes_wp[j,i]=runtimes[j]\n",
    "        generations_wp[j,i]=generations[j]\n",
    "        acceptance_wp[j][i] = acceptance[j]\n",
    "    \n",
    "print(runtimes_wp)\n",
    "print(generations_wp)\n",
    "print(acceptance_wp)"
   ]
  },
  {
   "cell_type": "code",
   "execution_count": 6,
   "metadata": {},
   "outputs": [
    {
     "name": "stdout",
     "output_type": "stream",
     "text": [
      "limegreen\n"
     ]
    }
   ],
   "source": [
    "import matplotlib.colors as mcolor\n",
    "\n",
    "color={'0None': 'white',\n",
    "     '1Accepted': 'limegreen',\n",
    "     '1Rejected': 'orangered',\n",
    "     '1Discarded': 'darkgreen',\n",
    "     '2Accepted': 'dodgerblue',\n",
    "     '2Rejected': 'crimson',\n",
    "     '2Discarded': 'darkblue',\n",
    "     '3Accepted': 'turquiose',\n",
    "     '3Rejected': 'red',\n",
    "     '3Discarded': 'teal'}\n",
    "print(color['1Accepted'])"
   ]
  },
  {
   "cell_type": "code",
   "execution_count": 7,
   "metadata": {},
   "outputs": [],
   "source": [
    "colortable = [[None for x in range(workers)] for y in range(int(max_proc))]\n",
    "\n",
    "for i in range(workers):\n",
    "    for j in range(int(max_proc)):\n",
    "        colortable[j][i]=color[str(int(generations_wp[j,i]))+str(acceptance_wp[j][i])]\n"
   ]
  },
  {
   "cell_type": "code",
   "execution_count": 8,
   "metadata": {},
   "outputs": [
    {
     "data": {
      "image/png": "[encoded data removed]",
      "text/plain": [
       "<Figure size 432x288 with 1 Axes>"
      ]
     },
     "metadata": {
      "needs_background": "light"
     },
     "output_type": "display_data"
    }
   ],
   "source": [
    "index = np.arange(workers)+1\n",
    "bar_width = 0.7\n",
    "y_offset = np.zeros(workers)\n",
    "\n",
    "for row in range(int(max_proc)):\n",
    "    plt.bar(index, runtimes_wp[row]-5, bar_width, bottom=y_offset, color = colortable[row])\n",
    "    y_offset = y_offset + runtimes_wp[row]\n",
    "    \n",
    "    \n",
    "plt.show()"
   ]
  },
  {
   "cell_type": "code",
   "execution_count": 9,
   "metadata": {},
   "outputs": [],
   "source": []
  }
 ],
 "metadata": {
  "kernelspec": {
   "display_name": "Python 3",
   "language": "python",
   "name": "python3"
  },
  "language_info": {
   "codemirror_mode": {
    "name": "ipython",
    "version": 3
   },
   "file_extension": ".py",
   "mimetype": "text/x-python",
   "name": "python",
   "nbconvert_exporter": "python",
   "pygments_lexer": "ipython3",
   "version": "3.8.2"
  }
 },
 "nbformat": 4,
 "nbformat_minor": 4
}
